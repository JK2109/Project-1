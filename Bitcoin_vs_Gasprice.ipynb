{
 "cells": [
  {
   "cell_type": "code",
   "execution_count": 40,
   "id": "ab1a779f",
   "metadata": {},
   "outputs": [
    {
     "data": {
      "text/html": [
       "<div>\n",
       "<style scoped>\n",
       "    .dataframe tbody tr th:only-of-type {\n",
       "        vertical-align: middle;\n",
       "    }\n",
       "\n",
       "    .dataframe tbody tr th {\n",
       "        vertical-align: top;\n",
       "    }\n",
       "\n",
       "    .dataframe thead th {\n",
       "        text-align: right;\n",
       "    }\n",
       "</style>\n",
       "<table border=\"1\" class=\"dataframe\">\n",
       "  <thead>\n",
       "    <tr style=\"text-align: right;\">\n",
       "      <th></th>\n",
       "      <th>Date</th>\n",
       "      <th>Weekly U.S. All Grades All Formulations Retail Gasoline Prices  (Dollars per Gallon)</th>\n",
       "    </tr>\n",
       "  </thead>\n",
       "  <tbody>\n",
       "    <tr>\n",
       "      <th>0</th>\n",
       "      <td>Apr 05, 1993</td>\n",
       "      <td>1.068</td>\n",
       "    </tr>\n",
       "    <tr>\n",
       "      <th>1</th>\n",
       "      <td>Apr 12, 1993</td>\n",
       "      <td>1.079</td>\n",
       "    </tr>\n",
       "    <tr>\n",
       "      <th>2</th>\n",
       "      <td>Apr 19, 1993</td>\n",
       "      <td>1.079</td>\n",
       "    </tr>\n",
       "    <tr>\n",
       "      <th>3</th>\n",
       "      <td>Apr 26, 1993</td>\n",
       "      <td>1.086</td>\n",
       "    </tr>\n",
       "    <tr>\n",
       "      <th>4</th>\n",
       "      <td>May 03, 1993</td>\n",
       "      <td>1.086</td>\n",
       "    </tr>\n",
       "  </tbody>\n",
       "</table>\n",
       "</div>"
      ],
      "text/plain": [
       "           Date  \\\n",
       "0  Apr 05, 1993   \n",
       "1  Apr 12, 1993   \n",
       "2  Apr 19, 1993   \n",
       "3  Apr 26, 1993   \n",
       "4  May 03, 1993   \n",
       "\n",
       "   Weekly U.S. All Grades All Formulations Retail Gasoline Prices  (Dollars per Gallon)  \n",
       "0                                              1.068                                     \n",
       "1                                              1.079                                     \n",
       "2                                              1.079                                     \n",
       "3                                              1.086                                     \n",
       "4                                              1.086                                     "
      ]
     },
     "execution_count": 40,
     "metadata": {},
     "output_type": "execute_result"
    }
   ],
   "source": [
    "# Dependencies and Setup\n",
    "import matplotlib.pyplot as plt\n",
    "import pandas as pd\n",
    "import scipy.stats as linregress\n",
    "import scipy.stats as st\n",
    "# import sklearn.datasets as dta\n",
    "import numpy as np\n",
    "import calendar\n",
    "\n",
    "# File to Load (Remember to Change These)\n",
    "bitcoin = \"Resources/BTC-USD.csv\"\n",
    "\n",
    "# Data Sournce from US Energy Information Administration\n",
    "# https://www.eia.gov/petroleum/gasdiesel/\n",
    "gas_price = \"Resources/GasPrice.csv\"\n",
    "\n",
    "\n",
    "# Read Purchasing File and store into Pandas data frame\n",
    "bitcoin_df = pd.read_csv(bitcoin)\n",
    "# print(bitcoin_df.head())\n",
    "gasprice_df = pd.read_csv(gas_price)\n",
    "gasprice_df.head()"
   ]
  },
  {
   "cell_type": "code",
   "execution_count": 41,
   "id": "f4335762",
   "metadata": {},
   "outputs": [
    {
     "data": {
      "text/plain": [
       "Date                                                                                     object\n",
       "Weekly U.S. All Grades All Formulations Retail Gasoline Prices  (Dollars per Gallon)    float64\n",
       "dtype: object"
      ]
     },
     "execution_count": 41,
     "metadata": {},
     "output_type": "execute_result"
    }
   ],
   "source": [
    "gasprice_df.columns\n",
    "gasprice_df.dtypes\n"
   ]
  },
  {
   "cell_type": "code",
   "execution_count": 42,
   "id": "80fd1e12",
   "metadata": {},
   "outputs": [
    {
     "name": "stdout",
     "output_type": "stream",
     "text": [
      "Date          object\n",
      "Open         float64\n",
      "High         float64\n",
      "Low          float64\n",
      "Close        float64\n",
      "Adj Close    float64\n",
      "Volume       float64\n",
      "dtype: object\n",
      "            Date          Open          High           Low         Close  \\\n",
      "0     10/30/2016    714.117981    714.117981    696.474976    701.864014   \n",
      "1     10/31/2016    702.640015    709.289001    691.682007    700.971985   \n",
      "2     11/01/2016    701.336975    736.452026    701.336975    729.793030   \n",
      "3     11/02/2016    730.065979    740.828979    722.348999    740.828979   \n",
      "4     11/03/2016    742.346008    745.773010    678.156006    688.700012   \n",
      "...          ...           ...           ...           ...           ...   \n",
      "1822  10/26/2021  63032.761720  63229.027340  59991.160160  60363.792970   \n",
      "1823  10/27/2021  60352.000000  61435.183590  58208.187500  58482.386720   \n",
      "1824  10/28/2021  58470.730470  62128.632810  58206.917970  60622.136720   \n",
      "1825  10/29/2021  60624.871090  62927.609380  60329.964840  62227.964840   \n",
      "1826  10/30/2021  62215.343750  62215.343750  60918.386720  61348.078130   \n",
      "\n",
      "         Adj Close        Volume  \n",
      "0       701.864014  1.006650e+08  \n",
      "1       700.971985  9.706440e+07  \n",
      "2       729.793030  1.305270e+08  \n",
      "3       740.828979  8.486520e+07  \n",
      "4       688.700012  1.728080e+08  \n",
      "...            ...           ...  \n",
      "1822  60363.792970  3.487897e+10  \n",
      "1823  58482.386720  4.365708e+10  \n",
      "1824  60622.136720  4.525708e+10  \n",
      "1825  62227.964840  3.685688e+10  \n",
      "1826  61348.078130  3.460399e+10  \n",
      "\n",
      "[1827 rows x 7 columns]\n"
     ]
    }
   ],
   "source": [
    "bitcoin_df.columns\n",
    "print(bitcoin_df.dtypes)\n",
    "\n",
    "bitcoin_df[\"Date\"] = pd.to_datetime(bitcoin_df[\"Date\"]).dt.strftime('%m/%d/%Y')\n",
    "print(bitcoin_df)"
   ]
  },
  {
   "cell_type": "code",
   "execution_count": 43,
   "id": "394e33da",
   "metadata": {},
   "outputs": [
    {
     "name": "stdout",
     "output_type": "stream",
     "text": [
      "            Date  Retail Price\n",
      "0     04/05/1993         1.068\n",
      "1     04/12/1993         1.079\n",
      "2     04/19/1993         1.079\n",
      "3     04/26/1993         1.086\n",
      "4     05/03/1993         1.086\n",
      "...          ...           ...\n",
      "1486  09/27/2021         3.271\n",
      "1487  10/04/2021         3.285\n",
      "1488  10/11/2021         3.360\n",
      "1489  10/18/2021         3.416\n",
      "1490  10/25/2021         3.476\n",
      "\n",
      "[1491 rows x 2 columns]\n"
     ]
    }
   ],
   "source": [
    "# bitcoin_df.head()\n",
    "\n",
    "gas_df = gasprice_df.rename(columns = {\"Weekly U.S. All Grades All Formulations Retail Gasoline Prices  (Dollars per Gallon)\":\"Retail Price\"})\n",
    "\n",
    "gas_df[\"Date\"] = pd.to_datetime(gas_df[\"Date\"]).dt.strftime('%m/%d/%Y')\n",
    "print(gas_df)\n"
   ]
  },
  {
   "cell_type": "code",
   "execution_count": 44,
   "id": "c2c6c222",
   "metadata": {},
   "outputs": [
    {
     "ename": "SyntaxError",
     "evalue": "invalid syntax (<ipython-input-44-66ee50e24f1d>, line 3)",
     "output_type": "error",
     "traceback": [
      "\u001b[1;36m  File \u001b[1;32m\"<ipython-input-44-66ee50e24f1d>\"\u001b[1;36m, line \u001b[1;32m3\u001b[0m\n\u001b[1;33m    bitcoin_gasprice_df = bitcoin_gasprice_df[[\"Date\",\"Close\", \"Retail Price\"]]\u001b[0m\n\u001b[1;37m    ^\u001b[0m\n\u001b[1;31mSyntaxError\u001b[0m\u001b[1;31m:\u001b[0m invalid syntax\n"
     ]
    }
   ],
   "source": [
    "#Merging the dataframe\n",
    "bitcoin_gasprice_df = pd.merge(bitcoin_df,gas_df, on =\"Date\", how = \"inner\"\n",
    "bitcoin_gasprice_df = bitcoin_gasprice_df[[\"Date\",\"Close\", \"Retail Price\"]]\n",
    "bitcoin_gasprice_df = bitcoin_gasprice_df.rename(columns={'Close': 'Bitcoin_price', 'Retail Price': 'Gas_Price'})\n",
    "bitcoin_gasprice_df =bitcoin_gasprice_df.dropna()"
   ]
  },
  {
   "cell_type": "code",
   "execution_count": 45,
   "id": "a62c0fc6",
   "metadata": {},
   "outputs": [
    {
     "data": {
      "text/plain": [
       "<Figure size 1440x1152 with 0 Axes>"
      ]
     },
     "metadata": {},
     "output_type": "display_data"
    },
    {
     "data": {
      "image/png": "[encoded data removed]",
      "text/plain": [
       "<Figure size 432x288 with 2 Axes>"
      ]
     },
     "metadata": {
      "needs_background": "light"
     },
     "output_type": "display_data"
    }
   ],
   "source": [
    "#Creating a line plot to compare gasprice vs bitcoin price\n",
    "dates = bitcoin_gasprice_df[\"Date\"]\n",
    "bitcoin_price = bitcoin_gasprice_df[\"Bitcoin_price\"]\n",
    "gas_price = bitcoin_gasprice_df[\"Gas_Price\"]\n",
    "\n",
    "\n",
    "plt.figure(figsize=(20, 16))\n",
    "\n",
    "fig = plt.figure()\n",
    "ax = fig.add_subplot(111)\n",
    "\n",
    "ax.plot(dates, gas_price, color = \"red\")\n",
    "ax.set_xlabel(\"Dates\",fontsize = 14)\n",
    "ax.set_ylabel(\"Gas_Price\",color=\"red\",fontsize = 14)\n",
    "ax.set_xticks(np.arange(0, len(bitcoin_gasprice_df)+1, 180))\n",
    "\n",
    "\n",
    "ax2=ax.twinx()\n",
    "\n",
    "ax2.plot(dates, bitcoin_price, color=\"blue\")\n",
    "ax2.set_ylabel(\"Bitcoin Price\", color=\"blue\", fontsize=14)\n",
    "plt.plot(dates, bitcoin_price, color=\"blue\", label = \"Bitcoin Price\")\n",
    "ax2.set_xticks(np.arange(0, len(bitcoin_gasprice_df)+1, 60))\n",
    "\n",
    "plt.savefig(\"Output/gasprice1.png\")\n",
    "\n",
    "plt.show()"
   ]
  },
  {
   "cell_type": "code",
   "execution_count": 46,
   "id": "51bdf080",
   "metadata": {
    "scrolled": true
   },
   "outputs": [
    {
     "name": "stdout",
     "output_type": "stream",
     "text": [
      "The correlation coefficient between Bitcoin price and Gas Price is 0.51\n"
     ]
    },
    {
     "data": {
      "image/png": "[encoded data removed]",
      "text/plain": [
       "<Figure size 576x360 with 1 Axes>"
      ]
     },
     "metadata": {
      "needs_background": "light"
     },
     "output_type": "display_data"
    }
   ],
   "source": [
    "#Creating a scatter plot to compare gasprice vs bitcoin price and finding the correlation coefficiency\n",
    "\n",
    "x_values = bitcoin_gasprice_df[\"Bitcoin_price\"]\n",
    "y_values = bitcoin_gasprice_df[\"Gas_Price\"]\n",
    "\n",
    "plt.figure(figsize=(8, 5))\n",
    "\n",
    "plt.scatter(x_values,y_values)\n",
    "(slope, intercept, rvalue, pvalue, stderr) = st.linregress(x_values, y_values)\n",
    "regress_values = x_values * slope + intercept\n",
    "line_eq = \"y = \" + str(round(slope,6)) + \"x + \" + str(round(intercept,2))\n",
    "\n",
    "\n",
    "plt.plot(x_values,regress_values,\"r-\")\n",
    "plt.annotate(line_eq,(30000,3),fontsize=15,color=\"red\")\n",
    "plt.title(\"Bitcoin-USD price vs Gas Price\")\n",
    "plt.xlabel('Bitcoin-USD price')\n",
    "plt.ylabel('Gas Price')\n",
    "\n",
    "\n",
    "print(f\"The correlation coefficient between Bitcoin price and Gas Price is {round(st.pearsonr(x_values,y_values)[0],2)}\")\n",
    "plt.savefig(\"Output/gasprice2.png\")\n",
    "plt.show()\n",
    "\n",
    "\n"
   ]
  },
  {
   "cell_type": "code",
   "execution_count": null,
   "id": "c4f843d0",
   "metadata": {},
   "outputs": [],
   "source": []
  }
 ],
 "metadata": {
  "kernelspec": {
   "display_name": "Python 3",
   "language": "python",
   "name": "python3"
  },
  "language_info": {
   "codemirror_mode": {
    "name": "ipython",
    "version": 3
   },
   "file_extension": ".py",
   "mimetype": "text/x-python",
   "name": "python",
   "nbconvert_exporter": "python",
   "pygments_lexer": "ipython3",
   "version": "3.8.8"
  }
 },
 "nbformat": 4,
 "nbformat_minor": 5
}
